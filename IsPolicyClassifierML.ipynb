{
 "cells": [
  {
   "cell_type": "markdown",
   "metadata": {},
   "source": [
    "# Privacy Policy Text Classifier"
   ]
  },
  {
   "cell_type": "markdown",
   "metadata": {},
   "source": [
    "### This ML model is able to detect if a text is a policy or not. It is tested with root resources of domains recovered from web page published in Google Play store for each app"
   ]
  },
  {
   "cell_type": "markdown",
   "metadata": {},
   "source": [
    "Importing the manually annotated dataset. Dropping empty pages and suffling the dataframe aftwerwards."
   ]
  },
  {
   "cell_type": "code",
   "execution_count": 23,
   "metadata": {},
   "outputs": [
    {
     "data": {
      "text/html": [
       "<div>\n",
       "<style scoped>\n",
       "    .dataframe tbody tr th:only-of-type {\n",
       "        vertical-align: middle;\n",
       "    }\n",
       "\n",
       "    .dataframe tbody tr th {\n",
       "        vertical-align: top;\n",
       "    }\n",
       "\n",
       "    .dataframe thead th {\n",
       "        text-align: right;\n",
       "    }\n",
       "</style>\n",
       "<table border=\"1\" class=\"dataframe\">\n",
       "  <thead>\n",
       "    <tr style=\"text-align: right;\">\n",
       "      <th></th>\n",
       "      <th>apk</th>\n",
       "      <th>text</th>\n",
       "      <th>Ispolicy</th>\n",
       "    </tr>\n",
       "  </thead>\n",
       "  <tbody>\n",
       "    <tr>\n",
       "      <th>49</th>\n",
       "      <td>com.nianticlabs.pokemongo</td>\n",
       "      <td>Niantic Support\\n\\nPokémon GO Help Center\\n\\nP...</td>\n",
       "      <td>False</td>\n",
       "    </tr>\n",
       "    <tr>\n",
       "      <th>58</th>\n",
       "      <td>com.playtika.wsop.gp</td>\n",
       "      <td>Please note: This website includes an accessib...</td>\n",
       "      <td>False</td>\n",
       "    </tr>\n",
       "    <tr>\n",
       "      <th>104</th>\n",
       "      <td>com.coinbase.android</td>\n",
       "      <td>One more step\\nPlease complete the security ch...</td>\n",
       "      <td>False</td>\n",
       "    </tr>\n",
       "    <tr>\n",
       "      <th>46</th>\n",
       "      <td>com.moonactive.coinmaster</td>\n",
       "      <td>Please stand by, while we are checking your br...</td>\n",
       "      <td>False</td>\n",
       "    </tr>\n",
       "    <tr>\n",
       "      <th>57</th>\n",
       "      <td>com.playstudios.popslots</td>\n",
       "      <td>PLAYSTUDIOS ACCESSIBILITY STATEMENT\\n\\nPLAYSTU...</td>\n",
       "      <td>False</td>\n",
       "    </tr>\n",
       "    <tr>\n",
       "      <th>...</th>\n",
       "      <td>...</td>\n",
       "      <td>...</td>\n",
       "      <td>...</td>\n",
       "    </tr>\n",
       "    <tr>\n",
       "      <th>59</th>\n",
       "      <td>com.productmadness.cashmancasino</td>\n",
       "      <td>With a swashbuckling, can-do attitude and a he...</td>\n",
       "      <td>False</td>\n",
       "    </tr>\n",
       "    <tr>\n",
       "      <th>125</th>\n",
       "      <td>com.gsn.android.tripeaks</td>\n",
       "      <td>GSN PRIVACY POLICY\\n\\nEffective Date: May 27, ...</td>\n",
       "      <td>True</td>\n",
       "    </tr>\n",
       "    <tr>\n",
       "      <th>112</th>\n",
       "      <td>com.dts.freefireth</td>\n",
       "      <td>HOME\\nGAME\\nNEWS\\nMEDIA\\nSUPPORT\\nESPORTS\\nMAX...</td>\n",
       "      <td>True</td>\n",
       "    </tr>\n",
       "    <tr>\n",
       "      <th>72</th>\n",
       "      <td>com.tool.fast.smart.cleaner</td>\n",
       "      <td>Welcome To Smart Cleaner\\n\\nSmart Cleaner is a...</td>\n",
       "      <td>False</td>\n",
       "    </tr>\n",
       "    <tr>\n",
       "      <th>83</th>\n",
       "      <td>dk.tactile.lilysgarden</td>\n",
       "      <td>Skip links\\nSkip to primary navigation\\nSkip t...</td>\n",
       "      <td>False</td>\n",
       "    </tr>\n",
       "  </tbody>\n",
       "</table>\n",
       "<p>165 rows × 3 columns</p>\n",
       "</div>"
      ],
      "text/plain": [
       "                                  apk  \\\n",
       "49          com.nianticlabs.pokemongo   \n",
       "58               com.playtika.wsop.gp   \n",
       "104              com.coinbase.android   \n",
       "46          com.moonactive.coinmaster   \n",
       "57           com.playstudios.popslots   \n",
       "..                                ...   \n",
       "59   com.productmadness.cashmancasino   \n",
       "125          com.gsn.android.tripeaks   \n",
       "112                com.dts.freefireth   \n",
       "72        com.tool.fast.smart.cleaner   \n",
       "83             dk.tactile.lilysgarden   \n",
       "\n",
       "                                                  text  Ispolicy  \n",
       "49   Niantic Support\\n\\nPokémon GO Help Center\\n\\nP...     False  \n",
       "58   Please note: This website includes an accessib...     False  \n",
       "104  One more step\\nPlease complete the security ch...     False  \n",
       "46   Please stand by, while we are checking your br...     False  \n",
       "57   PLAYSTUDIOS ACCESSIBILITY STATEMENT\\n\\nPLAYSTU...     False  \n",
       "..                                                 ...       ...  \n",
       "59   With a swashbuckling, can-do attitude and a he...     False  \n",
       "125  GSN PRIVACY POLICY\\n\\nEffective Date: May 27, ...      True  \n",
       "112  HOME\\nGAME\\nNEWS\\nMEDIA\\nSUPPORT\\nESPORTS\\nMAX...      True  \n",
       "72   Welcome To Smart Cleaner\\n\\nSmart Cleaner is a...     False  \n",
       "83   Skip links\\nSkip to primary navigation\\nSkip t...     False  \n",
       "\n",
       "[165 rows x 3 columns]"
      ]
     },
     "execution_count": 23,
     "metadata": {},
     "output_type": "execute_result"
    }
   ],
   "source": [
    "import pandas as pd\n",
    "from sklearn.utils import shuffle\n",
    "\n",
    "df = pd.read_csv('ispolicy_annotated.csv', sep=';')\n",
    "df = df.dropna(subset=['text'])\n",
    "df = shuffle(df)\n",
    "df"
   ]
  },
  {
   "cell_type": "markdown",
   "metadata": {},
   "source": [
    "## Distribution of the dataset"
   ]
  },
  {
   "cell_type": "code",
   "execution_count": 31,
   "metadata": {},
   "outputs": [
    {
     "data": {
      "image/png": "[encoded data removed]",
      "text/plain": [
       "<Figure size 576x360 with 1 Axes>"
      ]
     },
     "metadata": {},
     "output_type": "display_data"
    }
   ],
   "source": [
    "import matplotlib.pyplot as plt\n",
    "\n",
    "label = ['isPolicy', 'isNotPolicy']\n",
    "data = [len(df[df['Ispolicy'].__eq__(True)]), len(df[df['Ispolicy'].__eq__(False)])]\n",
    "\n",
    "fig = plt.figure(figsize =(8, 5))\n",
    "plt.pie(data, labels = label, autopct=\"%0.1f %%\")\n",
    "plt.title('isPolicy vs isNotPolicy distribution in Dataset')\n",
    "# show plot\n",
    "plt.show()"
   ]
  },
  {
   "cell_type": "markdown",
   "metadata": {},
   "source": [
    "### Text processing, tokenization, stopwords, punctuation marks, lematizing..."
   ]
  },
  {
   "cell_type": "code",
   "execution_count": 25,
   "metadata": {},
   "outputs": [
    {
     "data": {
      "text/html": [
       "<div>\n",
       "<style scoped>\n",
       "    .dataframe tbody tr th:only-of-type {\n",
       "        vertical-align: middle;\n",
       "    }\n",
       "\n",
       "    .dataframe tbody tr th {\n",
       "        vertical-align: top;\n",
       "    }\n",
       "\n",
       "    .dataframe thead th {\n",
       "        text-align: right;\n",
       "    }\n",
       "</style>\n",
       "<table border=\"1\" class=\"dataframe\">\n",
       "  <thead>\n",
       "    <tr style=\"text-align: right;\">\n",
       "      <th></th>\n",
       "      <th>index</th>\n",
       "      <th>apk</th>\n",
       "      <th>text</th>\n",
       "      <th>Ispolicy</th>\n",
       "      <th>processed_text</th>\n",
       "    </tr>\n",
       "  </thead>\n",
       "  <tbody>\n",
       "    <tr>\n",
       "      <th>0</th>\n",
       "      <td>49</td>\n",
       "      <td>com.nianticlabs.pokemongo</td>\n",
       "      <td>Niantic Support\\n\\nPokémon GO Help Center\\n\\nP...</td>\n",
       "      <td>False</td>\n",
       "      <td>niantic support pokémon go help center popular...</td>\n",
       "    </tr>\n",
       "    <tr>\n",
       "      <th>1</th>\n",
       "      <td>58</td>\n",
       "      <td>com.playtika.wsop.gp</td>\n",
       "      <td>Please note: This website includes an accessib...</td>\n",
       "      <td>False</td>\n",
       "      <td>please note website includes accessibility sys...</td>\n",
       "    </tr>\n",
       "    <tr>\n",
       "      <th>2</th>\n",
       "      <td>104</td>\n",
       "      <td>com.coinbase.android</td>\n",
       "      <td>One more step\\nPlease complete the security ch...</td>\n",
       "      <td>False</td>\n",
       "      <td>one step please complete security check access...</td>\n",
       "    </tr>\n",
       "    <tr>\n",
       "      <th>3</th>\n",
       "      <td>46</td>\n",
       "      <td>com.moonactive.coinmaster</td>\n",
       "      <td>Please stand by, while we are checking your br...</td>\n",
       "      <td>False</td>\n",
       "      <td>please stand checking browser rayid 6dee9fe6cc...</td>\n",
       "    </tr>\n",
       "    <tr>\n",
       "      <th>4</th>\n",
       "      <td>57</td>\n",
       "      <td>com.playstudios.popslots</td>\n",
       "      <td>PLAYSTUDIOS ACCESSIBILITY STATEMENT\\n\\nPLAYSTU...</td>\n",
       "      <td>False</td>\n",
       "      <td>playstudios accessibility statement playstudio...</td>\n",
       "    </tr>\n",
       "    <tr>\n",
       "      <th>...</th>\n",
       "      <td>...</td>\n",
       "      <td>...</td>\n",
       "      <td>...</td>\n",
       "      <td>...</td>\n",
       "      <td>...</td>\n",
       "    </tr>\n",
       "    <tr>\n",
       "      <th>160</th>\n",
       "      <td>59</td>\n",
       "      <td>com.productmadness.cashmancasino</td>\n",
       "      <td>With a swashbuckling, can-do attitude and a he...</td>\n",
       "      <td>False</td>\n",
       "      <td>swashbuckling cando attitude healthy dose crea...</td>\n",
       "    </tr>\n",
       "    <tr>\n",
       "      <th>161</th>\n",
       "      <td>125</td>\n",
       "      <td>com.gsn.android.tripeaks</td>\n",
       "      <td>GSN PRIVACY POLICY\\n\\nEffective Date: May 27, ...</td>\n",
       "      <td>True</td>\n",
       "      <td>gsn privacy policy effective date may 27 2021 ...</td>\n",
       "    </tr>\n",
       "    <tr>\n",
       "      <th>162</th>\n",
       "      <td>112</td>\n",
       "      <td>com.dts.freefireth</td>\n",
       "      <td>HOME\\nGAME\\nNEWS\\nMEDIA\\nSUPPORT\\nESPORTS\\nMAX...</td>\n",
       "      <td>True</td>\n",
       "      <td>home game news media support esports max priva...</td>\n",
       "    </tr>\n",
       "    <tr>\n",
       "      <th>163</th>\n",
       "      <td>72</td>\n",
       "      <td>com.tool.fast.smart.cleaner</td>\n",
       "      <td>Welcome To Smart Cleaner\\n\\nSmart Cleaner is a...</td>\n",
       "      <td>False</td>\n",
       "      <td>welcome smart cleaner smart cleaner free mobil...</td>\n",
       "    </tr>\n",
       "    <tr>\n",
       "      <th>164</th>\n",
       "      <td>83</td>\n",
       "      <td>dk.tactile.lilysgarden</td>\n",
       "      <td>Skip links\\nSkip to primary navigation\\nSkip t...</td>\n",
       "      <td>False</td>\n",
       "      <td>skip links skip primary navigation skip conten...</td>\n",
       "    </tr>\n",
       "  </tbody>\n",
       "</table>\n",
       "<p>165 rows × 5 columns</p>\n",
       "</div>"
      ],
      "text/plain": [
       "     index                               apk  \\\n",
       "0       49         com.nianticlabs.pokemongo   \n",
       "1       58              com.playtika.wsop.gp   \n",
       "2      104              com.coinbase.android   \n",
       "3       46         com.moonactive.coinmaster   \n",
       "4       57          com.playstudios.popslots   \n",
       "..     ...                               ...   \n",
       "160     59  com.productmadness.cashmancasino   \n",
       "161    125          com.gsn.android.tripeaks   \n",
       "162    112                com.dts.freefireth   \n",
       "163     72       com.tool.fast.smart.cleaner   \n",
       "164     83            dk.tactile.lilysgarden   \n",
       "\n",
       "                                                  text  Ispolicy  \\\n",
       "0    Niantic Support\\n\\nPokémon GO Help Center\\n\\nP...     False   \n",
       "1    Please note: This website includes an accessib...     False   \n",
       "2    One more step\\nPlease complete the security ch...     False   \n",
       "3    Please stand by, while we are checking your br...     False   \n",
       "4    PLAYSTUDIOS ACCESSIBILITY STATEMENT\\n\\nPLAYSTU...     False   \n",
       "..                                                 ...       ...   \n",
       "160  With a swashbuckling, can-do attitude and a he...     False   \n",
       "161  GSN PRIVACY POLICY\\n\\nEffective Date: May 27, ...      True   \n",
       "162  HOME\\nGAME\\nNEWS\\nMEDIA\\nSUPPORT\\nESPORTS\\nMAX...      True   \n",
       "163  Welcome To Smart Cleaner\\n\\nSmart Cleaner is a...     False   \n",
       "164  Skip links\\nSkip to primary navigation\\nSkip t...     False   \n",
       "\n",
       "                                        processed_text  \n",
       "0    niantic support pokémon go help center popular...  \n",
       "1    please note website includes accessibility sys...  \n",
       "2    one step please complete security check access...  \n",
       "3    please stand checking browser rayid 6dee9fe6cc...  \n",
       "4    playstudios accessibility statement playstudio...  \n",
       "..                                                 ...  \n",
       "160  swashbuckling cando attitude healthy dose crea...  \n",
       "161  gsn privacy policy effective date may 27 2021 ...  \n",
       "162  home game news media support esports max priva...  \n",
       "163  welcome smart cleaner smart cleaner free mobil...  \n",
       "164  skip links skip primary navigation skip conten...  \n",
       "\n",
       "[165 rows x 5 columns]"
      ]
     },
     "execution_count": 25,
     "metadata": {},
     "output_type": "execute_result"
    }
   ],
   "source": [
    "import string\n",
    "import nltk\n",
    "import re\n",
    "\n",
    "#nltk.download('stopwords')\n",
    "#nltk.download('wordnet')\n",
    "stopword = nltk.corpus.stopwords.words('english')\n",
    "\n",
    "def remove_punct(text):\n",
    "    text_nopunct = \"\".join([char for char in text if char not in string.punctuation])\n",
    "    return text_nopunct\n",
    "\n",
    "def tokenize(text):\n",
    "    tokens = re.split('\\W+', text)\n",
    "    return tokens\n",
    "\n",
    "def remove_stopwords(tokenized_list):\n",
    "    text = [word for word in tokenized_list if word not in stopword]\n",
    "    return text\n",
    "\n",
    "# Se reduce la palabra pero puede ser a una que no exista en ese lenguaje (normalmente se trunca la palabra)\n",
    "ps = nltk.PorterStemmer()\n",
    "def stemming(tokenized_text):\n",
    "    text = [ps.stem(word) for word in tokenized_text]\n",
    "    return text\n",
    "\n",
    "# La palabra se reduce a una que existe en ese lenguaje\n",
    "# Ejemplo de lemmatization: eating -> eat\n",
    "wn = nltk.WordNetLemmatizer()\n",
    "def lemmatizing(tokenized_text):\n",
    "    text = \"\".join([wn.lemmatize(word + ' ') for word in tokenized_text])\n",
    "    return text\n",
    "\n",
    "# PROCESAMIENTO DE TEXTO Nueva Columna (processed_text)\n",
    "\n",
    "# LOWER CASE\n",
    "df['processed_text'] = df['text'].apply(lambda x: x.lower())\n",
    "# REMOVE PUNCTUATION\n",
    "df['processed_text'] = df['processed_text'].apply(lambda x: remove_punct(x))\n",
    "# TOKENIZACION\n",
    "df['processed_text'] = df['processed_text'].apply(lambda x: tokenize(x))\n",
    "\n",
    "# REMOVE STOPWORDS\n",
    "#df['wordcloud'] = df['processed_text'].apply(lambda x: remove_stopwords(x))\n",
    "df['processed_text'] = df['processed_text'].apply(lambda x: remove_stopwords(x))\n",
    "\n",
    "# Stemming OPTIONAL (Stemming es más rápido pero lo que hace normalmente es truncar el final de las palabras)\n",
    "#df['processed_sentence_text'] = df['processed_sentence_text'].apply(lambda x: stemming(x))\n",
    "# Lemmatizing se tiene en cuenta el contexto de las palabras para dejar la palabra raíz de la que deriva\n",
    "df['processed_text'] = df['processed_text'].apply(lambda x: lemmatizing(x))\n",
    "\n",
    "df = df.reset_index()\n",
    "\n",
    "df"
   ]
  },
  {
   "cell_type": "markdown",
   "metadata": {},
   "source": [
    "### Dividing dataframe in traning and test sets"
   ]
  },
  {
   "cell_type": "code",
   "execution_count": 26,
   "metadata": {},
   "outputs": [],
   "source": [
    "from sklearn.model_selection import train_test_split\n",
    "\n",
    "# Output\n",
    "y = df.Ispolicy\n",
    "# Input\n",
    "X = df['processed_text']\n",
    "\n",
    "# Conjuntos de entrenamiento y test -> 25%\n",
    "X_train, X_test, y_train, y_test = train_test_split(X, y, test_size=0.25)"
   ]
  },
  {
   "cell_type": "markdown",
   "metadata": {},
   "source": [
    "### Generating and training SVM Model"
   ]
  },
  {
   "cell_type": "code",
   "execution_count": 27,
   "metadata": {},
   "outputs": [],
   "source": [
    "from sklearn.feature_extraction.text import CountVectorizer\n",
    "from sklearn.feature_extraction.text import TfidfTransformer\n",
    "from sklearn.linear_model import SGDClassifier\n",
    "from sklearn.naive_bayes import MultinomialNB\n",
    "from sklearn.pipeline import Pipeline\n",
    "import numpy as np\n",
    "import sklearn.metrics\n",
    "import joblib\n",
    "\n",
    "# text_clf_svm es el modelo generado\n",
    "text_clf_svm = Pipeline([('vect', CountVectorizer(ngram_range=(2,2))), \n",
    "                     ('tfidf', TfidfTransformer()), \n",
    "                     ('clf-svm', SGDClassifier(loss='modified_huber', penalty='l2', \n",
    "                                               class_weight='balanced', alpha=0.0001, \n",
    "                                               epsilon=0.1, eta0=0.5, power_t=0.5, \n",
    "                                               tol=None, learning_rate='adaptive', \n",
    "                                               fit_intercept=True))])\n",
    "\n",
    "# Entrenamiento del modelo\n",
    "_ = text_clf_svm.fit(X_train, y_train)\n",
    "\n",
    "## Guardar el modelo SVM ya entrenado:\n",
    "#joblib.dump(text_clf_svm, 'ham_spam_trained_model.pkl')\n",
    "\n",
    "predicted_svm = text_clf_svm.predict(X_test)"
   ]
  },
  {
   "cell_type": "markdown",
   "metadata": {},
   "source": [
    "### SVM Metrics"
   ]
  },
  {
   "cell_type": "code",
   "execution_count": 28,
   "metadata": {},
   "outputs": [
    {
     "data": {
      "text/plain": [
       "{'precision': 1.0,\n",
       " 'recall': 1.0,\n",
       " 'f1-score': 1.0,\n",
       " 'NVP': 1.0,\n",
       " 'specificity': 1.0,\n",
       " 'f1-score-negative': 1.0,\n",
       " 'accuracy': 1.0,\n",
       " 'conf_matrix': [16, 0, 0, 26]}"
      ]
     },
     "execution_count": 28,
     "metadata": {},
     "output_type": "execute_result"
    }
   ],
   "source": [
    "from sklearn.metrics import confusion_matrix\n",
    "from sklearn.metrics import f1_score\n",
    "from sklearn.metrics import precision_score\n",
    "from sklearn.metrics import recall_score\n",
    "from sklearn.metrics import balanced_accuracy_score\n",
    "\n",
    "def get_eval_metrics(real_Y, predicted_Y, positive_class=1, negative_class=0):\n",
    "    metrics = {'precision': precision_score(real_Y, predicted_Y, pos_label=positive_class, average='binary'),\n",
    "               'recall': recall_score(real_Y, predicted_Y, pos_label=positive_class, average='binary'),\n",
    "               'f1-score': f1_score(real_Y, predicted_Y, pos_label=positive_class, average='binary'),\n",
    "               'NVP': precision_score(real_Y, predicted_Y, pos_label=negative_class, average='binary'),\n",
    "               'specificity': recall_score(real_Y, predicted_Y, pos_label=negative_class, average='binary'),\n",
    "               'f1-score-negative': f1_score(real_Y, predicted_Y, pos_label=negative_class, average='binary'),\n",
    "               'accuracy': balanced_accuracy_score(real_Y, predicted_Y)}\n",
    "    tn, fp, fn, tp = confusion_matrix(real_Y, predicted_Y, labels=[positive_class, negative_class]).ravel()\n",
    "    metrics['conf_matrix'] = [tn, fp, fn, tp]\n",
    "    return metrics\n",
    "\n",
    "get_eval_metrics(y_test, predicted_svm)"
   ]
  },
  {
   "cell_type": "markdown",
   "metadata": {},
   "source": [
    "### 5-Fold Cross Validation Metrics"
   ]
  },
  {
   "cell_type": "code",
   "execution_count": 29,
   "metadata": {},
   "outputs": [
    {
     "data": {
      "text/plain": [
       "{'precision': 1.0,\n",
       " 'recall': 1.0,\n",
       " 'f1-score': 1.0,\n",
       " 'NVP': 1.0,\n",
       " 'specificity': 1.0,\n",
       " 'f1-score-negative': 1.0,\n",
       " 'accuracy': 1.0,\n",
       " 'confusion_matrix': [[13, 0, 0, 20],\n",
       "  [13, 0, 0, 20],\n",
       "  [14, 0, 0, 19],\n",
       "  [14, 0, 0, 19],\n",
       "  [14, 0, 0, 19]]}"
      ]
     },
     "execution_count": 29,
     "metadata": {},
     "output_type": "execute_result"
    }
   ],
   "source": [
    "from sklearn.model_selection import StratifiedKFold\n",
    "\n",
    "def mean_metrics (metrics_lst):\n",
    "    return {'precision': np.mean([m['precision'] for m in metrics_lst]),\n",
    "            'recall': np.mean([m['recall'] for m in metrics_lst]),\n",
    "            'f1-score': np.mean([m['f1-score'] for m in metrics_lst]),\n",
    "            'NVP': np.mean([m['NVP'] for m in metrics_lst]),\n",
    "            'specificity': np.mean([m['specificity'] for m in metrics_lst]),\n",
    "            'f1-score-negative': np.mean([m['f1-score-negative'] for m in metrics_lst]),\n",
    "            'accuracy': np.mean([m['accuracy'] for m in metrics_lst]),\n",
    "            'confusion_matrix': [m['conf_matrix'] for m in metrics_lst]\n",
    "            }\n",
    "\n",
    "skf = StratifiedKFold(n_splits=5, random_state=None)\n",
    "# X is the feature set and y is the target\n",
    "\n",
    "mean_metrics_list_svm = []\n",
    "for train_index, test_index in skf.split(X,y): \n",
    "    #print(\"Train:\", train_index, \"Validation:\", test_index) \n",
    "    X_train, X_test = X[train_index], X[test_index] \n",
    "    y_train, y_test = y[train_index], y[test_index]\n",
    "    #predicted_svm = model_svm.predict(X_test)\n",
    "    predicted_svm = text_clf_svm.predict(X_test) \n",
    "    mean_metrics_list_svm.append(get_eval_metrics(y_test, predicted_svm))\n",
    "    #print(get_eval_metrics(y_test ,predicted_svm), '\\n')\n",
    "    \n",
    "mean_metrics(mean_metrics_list_svm)"
   ]
  },
  {
   "cell_type": "markdown",
   "metadata": {},
   "source": [
    "### Confussion Matrix"
   ]
  },
  {
   "cell_type": "code",
   "execution_count": 33,
   "metadata": {},
   "outputs": [
    {
     "data": {
      "text/plain": [
       "<sklearn.metrics._plot.confusion_matrix.ConfusionMatrixDisplay at 0x7ff95a01e370>"
      ]
     },
     "execution_count": 33,
     "metadata": {},
     "output_type": "execute_result"
    },
    {
     "data": {
      "image/png": "[encoded data removed]",
      "text/plain": [
       "<Figure size 432x288 with 2 Axes>"
      ]
     },
     "metadata": {
      "needs_background": "light"
     },
     "output_type": "display_data"
    }
   ],
   "source": [
    "import matplotlib.pyplot as plt\n",
    "sklearn.metrics.plot_confusion_matrix(text_clf_svm, X_test, y_test)"
   ]
  },
  {
   "cell_type": "markdown",
   "metadata": {},
   "source": [
    "### Exporting Model"
   ]
  },
  {
   "cell_type": "code",
   "execution_count": 32,
   "metadata": {},
   "outputs": [
    {
     "data": {
      "text/plain": [
       "['trained_ispolicy_classifier.pkl']"
      ]
     },
     "execution_count": 32,
     "metadata": {},
     "output_type": "execute_result"
    }
   ],
   "source": [
    "#joblib.dump(text_clf_svm, 'trained_ispolicy_classifier.pkl')"
   ]
  },
  {
   "cell_type": "markdown",
   "metadata": {},
   "source": [
    "# Validation"
   ]
  },
  {
   "cell_type": "code",
   "execution_count": 37,
   "metadata": {},
   "outputs": [
    {
     "data": {
      "text/html": [
       "<div>\n",
       "<style scoped>\n",
       "    .dataframe tbody tr th:only-of-type {\n",
       "        vertical-align: middle;\n",
       "    }\n",
       "\n",
       "    .dataframe tbody tr th {\n",
       "        vertical-align: top;\n",
       "    }\n",
       "\n",
       "    .dataframe thead th {\n",
       "        text-align: right;\n",
       "    }\n",
       "</style>\n",
       "<table border=\"1\" class=\"dataframe\">\n",
       "  <thead>\n",
       "    <tr style=\"text-align: right;\">\n",
       "      <th></th>\n",
       "      <th>apk</th>\n",
       "      <th>text</th>\n",
       "      <th>Ispolicy</th>\n",
       "    </tr>\n",
       "  </thead>\n",
       "  <tbody>\n",
       "    <tr>\n",
       "      <th>75</th>\n",
       "      <td>com.qidian.Int.reader</td>\n",
       "      <td>Browse\\n \\n Rankings\\n \\n Create\\n Search...\\n...</td>\n",
       "      <td>False</td>\n",
       "    </tr>\n",
       "    <tr>\n",
       "      <th>39</th>\n",
       "      <td>jp.pokemon.pokemonhome</td>\n",
       "      <td>・\\nTHE POKÉMON COMPANY PRIVACY NOTICE FOR POKÉ...</td>\n",
       "      <td>True</td>\n",
       "    </tr>\n",
       "    <tr>\n",
       "      <th>63</th>\n",
       "      <td>com.google.android.apps.docs</td>\n",
       "      <td>Google Drive Help\\nSign in\\nHelp CenterCommuni...</td>\n",
       "      <td>False</td>\n",
       "    </tr>\n",
       "    <tr>\n",
       "      <th>0</th>\n",
       "      <td>co.hinge.app</td>\n",
       "      <td>Skip to main\\nHinge homepage\\nMission\\nCareers...</td>\n",
       "      <td>True</td>\n",
       "    </tr>\n",
       "    <tr>\n",
       "      <th>67</th>\n",
       "      <td>com.linkedin.android</td>\n",
       "      <td>Skip to main content\\n\\nWe and third parties s...</td>\n",
       "      <td>False</td>\n",
       "    </tr>\n",
       "    <tr>\n",
       "      <th>...</th>\n",
       "      <td>...</td>\n",
       "      <td>...</td>\n",
       "      <td>...</td>\n",
       "    </tr>\n",
       "    <tr>\n",
       "      <th>77</th>\n",
       "      <td>com.taggedapp</td>\n",
       "      <td>The social network for meeting new people :)\\n...</td>\n",
       "      <td>False</td>\n",
       "    </tr>\n",
       "    <tr>\n",
       "      <th>55</th>\n",
       "      <td>com.crunchyroll.crunchyroid</td>\n",
       "      <td>One more step\\nPlease complete the security ch...</td>\n",
       "      <td>False</td>\n",
       "    </tr>\n",
       "    <tr>\n",
       "      <th>83</th>\n",
       "      <td>kik.android</td>\n",
       "      <td>skip to main content\\nView High Contrast Site\\...</td>\n",
       "      <td>False</td>\n",
       "    </tr>\n",
       "    <tr>\n",
       "      <th>59</th>\n",
       "      <td>com.duolingo</td>\n",
       "      <td>The free, fun, and effective way to learn a la...</td>\n",
       "      <td>False</td>\n",
       "    </tr>\n",
       "    <tr>\n",
       "      <th>21</th>\n",
       "      <td>com.google.android.apps.subscriptions.red</td>\n",
       "      <td>Privacy Policy\\nSign in\\n\\nWhen you use our se...</td>\n",
       "      <td>True</td>\n",
       "    </tr>\n",
       "  </tbody>\n",
       "</table>\n",
       "<p>73 rows × 3 columns</p>\n",
       "</div>"
      ],
      "text/plain": [
       "                                          apk  \\\n",
       "75                      com.qidian.Int.reader   \n",
       "39                     jp.pokemon.pokemonhome   \n",
       "63               com.google.android.apps.docs   \n",
       "0                                co.hinge.app   \n",
       "67                       com.linkedin.android   \n",
       "..                                        ...   \n",
       "77                              com.taggedapp   \n",
       "55                com.crunchyroll.crunchyroid   \n",
       "83                                kik.android   \n",
       "59                               com.duolingo   \n",
       "21  com.google.android.apps.subscriptions.red   \n",
       "\n",
       "                                                 text Ispolicy  \n",
       "75  Browse\\n \\n Rankings\\n \\n Create\\n Search...\\n...    False  \n",
       "39  ・\\nTHE POKÉMON COMPANY PRIVACY NOTICE FOR POKÉ...     True  \n",
       "63  Google Drive Help\\nSign in\\nHelp CenterCommuni...    False  \n",
       "0   Skip to main\\nHinge homepage\\nMission\\nCareers...     True  \n",
       "67  Skip to main content\\n\\nWe and third parties s...    False  \n",
       "..                                                ...      ...  \n",
       "77  The social network for meeting new people :)\\n...    False  \n",
       "55  One more step\\nPlease complete the security ch...    False  \n",
       "83  skip to main content\\nView High Contrast Site\\...    False  \n",
       "59  The free, fun, and effective way to learn a la...    False  \n",
       "21  Privacy Policy\\nSign in\\n\\nWhen you use our se...     True  \n",
       "\n",
       "[73 rows x 3 columns]"
      ]
     },
     "execution_count": 37,
     "metadata": {},
     "output_type": "execute_result"
    }
   ],
   "source": [
    "df_validation = pd.read_csv('./Validation/validation_annotated.csv', sep=';')\n",
    "df_validation = df.dropna(subset=['text'])\n",
    "df_validation = shuffle(df)\n",
    "df_validation"
   ]
  },
  {
   "cell_type": "code",
   "execution_count": 42,
   "metadata": {},
   "outputs": [
    {
     "name": "stderr",
     "output_type": "stream",
     "text": [
      "<ipython-input-42-d9febf086c4e>:4: SettingWithCopyWarning: \n",
      "A value is trying to be set on a copy of a slice from a DataFrame.\n",
      "Try using .loc[row_indexer,col_indexer] = value instead\n",
      "\n",
      "See the caveats in the documentation: https://pandas.pydata.org/pandas-docs/stable/user_guide/indexing.html#returning-a-view-versus-a-copy\n",
      "  df_validation['processed_text'] = df_validation['text'].apply(lambda x: x.lower())\n",
      "<ipython-input-42-d9febf086c4e>:6: SettingWithCopyWarning: \n",
      "A value is trying to be set on a copy of a slice from a DataFrame.\n",
      "Try using .loc[row_indexer,col_indexer] = value instead\n",
      "\n",
      "See the caveats in the documentation: https://pandas.pydata.org/pandas-docs/stable/user_guide/indexing.html#returning-a-view-versus-a-copy\n",
      "  df_validation['processed_text'] = df_validation['processed_text'].apply(lambda x: remove_punct(x))\n",
      "<ipython-input-42-d9febf086c4e>:8: SettingWithCopyWarning: \n",
      "A value is trying to be set on a copy of a slice from a DataFrame.\n",
      "Try using .loc[row_indexer,col_indexer] = value instead\n",
      "\n",
      "See the caveats in the documentation: https://pandas.pydata.org/pandas-docs/stable/user_guide/indexing.html#returning-a-view-versus-a-copy\n",
      "  df_validation['processed_text'] = df_validation['processed_text'].apply(lambda x: tokenize(x))\n",
      "<ipython-input-42-d9febf086c4e>:11: SettingWithCopyWarning: \n",
      "A value is trying to be set on a copy of a slice from a DataFrame.\n",
      "Try using .loc[row_indexer,col_indexer] = value instead\n",
      "\n",
      "See the caveats in the documentation: https://pandas.pydata.org/pandas-docs/stable/user_guide/indexing.html#returning-a-view-versus-a-copy\n",
      "  df_validation['processed_text'] = df_validation['processed_text'].apply(lambda x: remove_stopwords(x))\n",
      "<ipython-input-42-d9febf086c4e>:14: SettingWithCopyWarning: \n",
      "A value is trying to be set on a copy of a slice from a DataFrame.\n",
      "Try using .loc[row_indexer,col_indexer] = value instead\n",
      "\n",
      "See the caveats in the documentation: https://pandas.pydata.org/pandas-docs/stable/user_guide/indexing.html#returning-a-view-versus-a-copy\n",
      "  df_validation['processed_text'] = df_validation['processed_text'].apply(lambda x: lemmatizing(x))\n"
     ]
    }
   ],
   "source": [
    "# PROCESAMIENTO DE TEXTO Nueva Columna (processed_text)\n",
    "\n",
    "# LOWER CASE\n",
    "df_validation['processed_text'] = df_validation['text'].apply(lambda x: x.lower())\n",
    "# REMOVE PUNCTUATION\n",
    "df_validation['processed_text'] = df_validation['processed_text'].apply(lambda x: remove_punct(x))\n",
    "# TOKENIZACION\n",
    "df_validation['processed_text'] = df_validation['processed_text'].apply(lambda x: tokenize(x))\n",
    "\n",
    "# REMOVE STOPWORDS\n",
    "df_validation['processed_text'] = df_validation['processed_text'].apply(lambda x: remove_stopwords(x))\n",
    "\n",
    "# Lemmatizing se tiene en cuenta el contexto de las palabras para dejar la palabra raíz de la que deriva\n",
    "df_validation['processed_text'] = df_validation['processed_text'].apply(lambda x: lemmatizing(x))\n",
    "\n",
    "df_validation = df_validation.reset_index()"
   ]
  },
  {
   "cell_type": "markdown",
   "metadata": {},
   "source": [
    "### Loading Model"
   ]
  },
  {
   "cell_type": "code",
   "execution_count": 43,
   "metadata": {},
   "outputs": [],
   "source": [
    "isPolicyModel = joblib.load('trained_ispolicy_classifier.pkl')"
   ]
  },
  {
   "cell_type": "markdown",
   "metadata": {},
   "source": [
    "### Predicting Validation Dataset"
   ]
  },
  {
   "cell_type": "code",
   "execution_count": 44,
   "metadata": {},
   "outputs": [],
   "source": [
    "predicted_model = isPolicyModel.predict(df_validation['processed_text'])"
   ]
  },
  {
   "cell_type": "markdown",
   "metadata": {},
   "source": [
    "### Validation Metrics"
   ]
  },
  {
   "cell_type": "code",
   "execution_count": 46,
   "metadata": {},
   "outputs": [
    {
     "data": {
      "text/plain": [
       "{'precision': 1.0,\n",
       " 'recall': 0.9411764705882353,\n",
       " 'f1-score': 0.9696969696969697,\n",
       " 'NVP': 0.9512195121951219,\n",
       " 'specificity': 1.0,\n",
       " 'f1-score-negative': 0.975,\n",
       " 'accuracy': 0.9705882352941176,\n",
       " 'conf_matrix': [32, 2, 0, 39]}"
      ]
     },
     "execution_count": 46,
     "metadata": {},
     "output_type": "execute_result"
    }
   ],
   "source": [
    "get_eval_metrics(df_validation['Ispolicy'].tolist(), predicted_model)"
   ]
  },
  {
   "cell_type": "markdown",
   "metadata": {},
   "source": [
    "### Validation Confussion Matrix"
   ]
  },
  {
   "cell_type": "code",
   "execution_count": 53,
   "metadata": {},
   "outputs": [
    {
     "data": {
      "text/plain": [
       "<sklearn.metrics._plot.confusion_matrix.ConfusionMatrixDisplay at 0x7ff948b693a0>"
      ]
     },
     "execution_count": 53,
     "metadata": {},
     "output_type": "execute_result"
    },
    {
     "data": {
      "image/png": "[encoded data removed]",
      "text/plain": [
       "<Figure size 432x288 with 2 Axes>"
      ]
     },
     "metadata": {
      "needs_background": "light"
     },
     "output_type": "display_data"
    }
   ],
   "source": [
    "sklearn.metrics.plot_confusion_matrix(isPolicyModel, df_validation['processed_text'].tolist(), df_validation['Ispolicy'].tolist())"
   ]
  }
 ],
 "metadata": {
  "kernelspec": {
   "display_name": "Python 3",
   "language": "python",
   "name": "python3"
  },
  "language_info": {
   "codemirror_mode": {
    "name": "ipython",
    "version": 3
   },
   "file_extension": ".py",
   "mimetype": "text/x-python",
   "name": "python",
   "nbconvert_exporter": "python",
   "pygments_lexer": "ipython3",
   "version": "3.8.5"
  }
 },
 "nbformat": 4,
 "nbformat_minor": 4
}
